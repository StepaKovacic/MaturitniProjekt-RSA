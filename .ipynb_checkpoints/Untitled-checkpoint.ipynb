{
 "cells": [
  {
   "cell_type": "code",
   "execution_count": null,
   "id": "4ebf8982-5187-4f4e-93b5-bc92e7524caa",
   "metadata": {},
   "outputs": [],
   "source": [
    "import random\n",
    "import re"
   ]
  },
  {
   "cell_type": "code",
   "execution_count": 3,
   "id": "9b4f30c8-83d3-4369-8c40-beb287363256",
   "metadata": {},
   "outputs": [],
   "source": [
    "def Soudelna(cislo_a, cislo_b):\n",
    "    delitele_cisla_a = []\n",
    "    for i in range(1, cislo_a+1):\n",
    "        if cislo_a%i == 0:\n",
    "            delitele_cisla_a.append(i)\n",
    "    #print(delitele_cisla_a)\n",
    "    for i in delitele_cisla_a:\n",
    "        if cislo_b%i == 0 and i!=1:\n",
    "            return True \n",
    "    return False"
   ]
  },
  {
   "cell_type": "code",
   "execution_count": 4,
   "id": "6b353d6f-c603-4729-ba0d-c41a7b6eb165",
   "metadata": {},
   "outputs": [],
   "source": [
    "def udelej_velke_prvocislo():\n",
    "    while True:\n",
    "        x = random.randrange(1000, 100000)\n",
    "        is_prime = True\n",
    "        for i in range(2, int(x**0.5) + 1):\n",
    "            if x % i == 0:\n",
    "                is_prime = False\n",
    "                break\n",
    "        if is_prime:\n",
    "            return x"
   ]
  },
  {
   "cell_type": "code",
   "execution_count": 5,
   "id": "63389970-f7e4-4b69-a12e-4db3fef59aa5",
   "metadata": {},
   "outputs": [],
   "source": [
    "def Vygeneruj_klice(prvocislo_p, prvocislo_q):\n",
    "    n = prvocislo_p * prvocislo_q\n",
    "\n",
    "    #Eulerova funkce \n",
    "    phi = (prvocislo_p - 1) * (prvocislo_q - 1)\n",
    "\n",
    "    #zvolíme náhodné e nesoudělné s phi\n",
    "    while True:\n",
    "        # vygenerování náhodného čísla e které je nesoudělné s phi\n",
    "        e = random.randrange(1000, 10000)\n",
    "        if Soudelna(e, phi) == False:\n",
    "            break\n",
    "    # print(\"e\", e)\n",
    "    # print(\"phi\", phi)\n",
    "    x = 1\n",
    "    while True:\n",
    "        \n",
    "        if (x*e)%phi == 1:\n",
    "            break\n",
    "        else: \n",
    "            x += 1\n",
    "    return {\"verejny_klic\":(n, e), \"soukromy_klic\":(n, x) }"
   ]
  },
  {
   "cell_type": "code",
   "execution_count": 6,
   "id": "82eb891e-28f6-4a0a-8e03-cfd04074edc2",
   "metadata": {},
   "outputs": [],
   "source": [
    "def preved_retezec_na_cislo(reterez_na_prevod):\n",
    "    global vsechny_znaky\n",
    "    reterez_na_prevod = reterez_na_prevod.lower()\n",
    "    vsechny_znaky = \" abcdefghijklmnopqrstuvwxyzáéíóůúýěčďňřšťž1234567890\"\n",
    "\n",
    "\n",
    "\n",
    "    for i in reterez_na_prevod:\n",
    "        if i not in vsechny_znaky:\n",
    "            print(\"toto nelze vykonat, v řetězci se nachází nedovolený znak\")\n",
    "            return\n",
    "    # l = list(vsechny_znaky)\n",
    "    # random.shuffle(l)\n",
    "    # vsechny_znaky = \"\".join(l)\n",
    "    vysledek = \"\"\n",
    "\n",
    "    for i in reterez_na_prevod:\n",
    "        vysledek += str(100 + (re.search(i, vsechny_znaky).start()))[1:]\n",
    "    \n",
    "    \n",
    "    split_strings = [int(vysledek[i:i+2]) for i in range(0, len(vysledek), 2)]\n",
    "\n",
    "    return(vysledek)\n"
   ]
  },
  {
   "cell_type": "code",
   "execution_count": 19,
   "id": "0e5b3e7e-a0c3-4633-97af-5d055531340a",
   "metadata": {},
   "outputs": [
    {
     "name": "stdout",
     "output_type": "stream",
     "text": [
      "text převedený na číslo je 132713001827040002180113021518250001001115111512151101131520191822240326080201190519040622121101190408100607000119040607220015011904080615010801111019080406001509010806150908000119150406080100101519223115100108190022\n",
      "n je 29447083\n",
      "['132713', '001827', '040002', '180113', '021518', '250001', '001115', '111512', '151101', '131520', '191822', '240326', '080201', '190519', '040622', '121101', '190408', '100607', '000119', '040607', '220015', '011904', '080615', '010801', '111019', '080406', '001509', '010806', '150908', '000119', '150406', '080100', '101519', '223115', '100108', '190022']\n"
     ]
    }
   ],
   "source": [
    "x = preved_retezec_na_cislo(\"mám rád brambory a kokolokamotsrvxczhbasesdfvlkasdhjfg asdfgv oasdhfoahakjshdf oiahfoih asodfha josvůojahs v\")\n",
    "print(\"text převedený na číslo je \" + str(x))\n",
    "\n",
    "hodnoty = Vygeneruj_klice(udelej_velke_prvocislo(), udelej_velke_prvocislo())\n",
    "\n",
    "n = hodnoty[\"verejny_klic\"][0]\n",
    "e = hodnoty[\"verejny_klic\"][1]\n",
    "d = hodnoty[\"soukromy_klic\"][1]\n",
    "print(\"n je \" + str(n))\n",
    "\n",
    "#chci aby čísla byla stále dlouhá 2p čísel\n",
    "skok = 2 * (int(len(str(n))/2) - 1)\n",
    "\n",
    "split_strings = [(x[i:i+skok]) for i in range(0, len(x), skok)]\n",
    "print(split_strings)"
   ]
  },
  {
   "cell_type": "code",
   "execution_count": 23,
   "id": "5503c613-f2c2-48f7-97d5-1eb50f0a7275",
   "metadata": {},
   "outputs": [],
   "source": [
    "dectionary_puvodni_a_zasifrovany = {}\n",
    "zasifrovany = []\n",
    "for m in split_strings:\n",
    "    dectionary_puvodni_a_zasifrovany[m] = (int(m)**e)%n\n",
    "    zasifrovany.append((int(m)**e)%n)"
   ]
  },
  {
   "cell_type": "code",
   "execution_count": 24,
   "id": "a8ed7720-00e2-40aa-9465-da787fbf684d",
   "metadata": {},
   "outputs": [
    {
     "name": "stdout",
     "output_type": "stream",
     "text": [
      "{'132713': 23918338, '001827': 25683322, '040002': 26239747, '180113': 10955085, '021518': 27312375, '250001': 5273849, '001115': 22451948, '111512': 15893074, '151101': 22510243, '131520': 17778563, '191822': 13971530, '240326': 15219268, '080201': 970885, '190519': 28231199, '040622': 18519048, '121101': 3109524, '190408': 25809152, '100607': 7990190, '000119': 23524736, '040607': 12716253, '220015': 8803512, '011904': 2420574, '080615': 1032973, '010801': 5855485, '111019': 2794779, '080406': 20545270, '001509': 26843483, '010806': 16395821, '150908': 6875273, '150406': 15385437, '080100': 4828159, '101519': 17933362, '223115': 23755794, '100108': 8205259, '190022': 24314401}\n"
     ]
    }
   ],
   "source": [
    "print(dectionary_puvodni_a_zasifrovany)"
   ]
  },
  {
   "cell_type": "code",
   "execution_count": null,
   "id": "7dfbcbbd-1a13-4d46-b5d9-691f64beef31",
   "metadata": {},
   "outputs": [],
   "source": [
    "for c in zasifrovany:\n",
    "    print((c**d)%n)"
   ]
  }
 ],
 "metadata": {
  "kernelspec": {
   "display_name": "Python 3 (ipykernel)",
   "language": "python",
   "name": "python3"
  },
  "language_info": {
   "codemirror_mode": {
    "name": "ipython",
    "version": 3
   },
   "file_extension": ".py",
   "mimetype": "text/x-python",
   "name": "python",
   "nbconvert_exporter": "python",
   "pygments_lexer": "ipython3",
   "version": "3.11.6"
  }
 },
 "nbformat": 4,
 "nbformat_minor": 5
}
