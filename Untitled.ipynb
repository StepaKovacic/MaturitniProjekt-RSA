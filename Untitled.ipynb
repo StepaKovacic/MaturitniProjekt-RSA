{
 "cells": [
  {
   "cell_type": "code",
   "execution_count": 146,
   "id": "4ebf8982-5187-4f4e-93b5-bc92e7524caa",
   "metadata": {},
   "outputs": [],
   "source": [
    "import random\n",
    "import re\n",
    "import gmpy2\n"
   ]
  },
  {
   "cell_type": "code",
   "execution_count": 147,
   "id": "9b4f30c8-83d3-4369-8c40-beb287363256",
   "metadata": {},
   "outputs": [],
   "source": [
    "def Soudelna(cislo_a, cislo_b):\n",
    "    delitele_cisla_a = []\n",
    "    for i in range(1, cislo_a+1):\n",
    "        if cislo_a%i == 0:\n",
    "            delitele_cisla_a.append(i)\n",
    "    #print(delitele_cisla_a)\n",
    "    for i in delitele_cisla_a:\n",
    "        if cislo_b%i == 0 and i!=1:\n",
    "            return True \n",
    "    return False"
   ]
  },
  {
   "cell_type": "code",
   "execution_count": 148,
   "id": "6b353d6f-c603-4729-ba0d-c41a7b6eb165",
   "metadata": {},
   "outputs": [],
   "source": [
    "def udelej_velke_prvocislo():\n",
    "    while True:\n",
    "        x = random.randrange(1000, 10000)\n",
    "        is_prime = True\n",
    "        for i in range(2, int(x**0.5) + 1):\n",
    "            if x % i == 0:\n",
    "                is_prime = False\n",
    "                break\n",
    "        if is_prime:\n",
    "            return x"
   ]
  },
  {
   "cell_type": "code",
   "execution_count": 149,
   "id": "63389970-f7e4-4b69-a12e-4db3fef59aa5",
   "metadata": {},
   "outputs": [],
   "source": [
    "def Vygeneruj_klice(prvocislo_p, prvocislo_q):\n",
    "    n = prvocislo_p * prvocislo_q\n",
    "\n",
    "    #Eulerova funkce \n",
    "    phi = (prvocislo_p - 1) * (prvocislo_q - 1)\n",
    "\n",
    "    #zvolíme náhodné e nesoudělné s phi\n",
    "    while True:\n",
    "        # vygenerování náhodného čísla e které je nesoudělné s phi\n",
    "        e = random.randrange(1000, 10000)\n",
    "        if Soudelna(e, phi) == False:\n",
    "            break\n",
    "    # print(\"e\", e)\n",
    "    # print(\"phi\", phi)\n",
    "    d = 1\n",
    "    while True:\n",
    "        \n",
    "        \n",
    "        if (d*e)%phi == 1:\n",
    "            break\n",
    "        else: \n",
    "            d += 1\n",
    "    return {\"verejny_klic\":(n, e), \"soukromy_klic\":(n, d) }"
   ]
  },
  {
   "cell_type": "code",
   "execution_count": 150,
   "id": "82eb891e-28f6-4a0a-8e03-cfd04074edc2",
   "metadata": {},
   "outputs": [],
   "source": [
    "def preved_retezec_na_cislo(reterez_na_prevod):\n",
    "    global vsechny_znaky\n",
    "    reterez_na_prevod = reterez_na_prevod.lower()\n",
    "    vsechny_znaky = \" abcdefghijklmnopqrstuvwxyzáéíóůúýěčďňřšťž1234567890.,!:-()\"\n",
    "\n",
    "\n",
    "\n",
    "    for i in reterez_na_prevod:\n",
    "        if i not in vsechny_znaky:\n",
    "            print(\"toto nelze vykonat, v řetězci se nachází nedovolený znak: \" + str(i))\n",
    "            return\n",
    "    # l = list(vsechny_znaky)\n",
    "    # random.shuffle(l)\n",
    "    # vsechny_znaky = \"\".join(l)\n",
    "    vysledek = \"\"\n",
    "\n",
    "    for i in reterez_na_prevod:\n",
    "        vysledek += str(100 + (re.search(i, vsechny_znaky).start()))[1:]\n",
    "    \n",
    "    \n",
    "    split_strings = [int(vysledek[i:i+2]) for i in range(0, len(vysledek), 2)]\n",
    "\n",
    "    return(vysledek)\n"
   ]
  },
  {
   "cell_type": "code",
   "execution_count": 151,
   "id": "0e5b3e7e-a0c3-4633-97af-5d055531340a",
   "metadata": {},
   "outputs": [
    {
     "name": "stdout",
     "output_type": "stream",
     "text": [
      "text převedený na číslo je 043805221518210205030016181520090020151321001409030014051401132920011200010012093911210016211920091200041522140920380000200113001209391101001638053511011201530014054100191115143509120008151400001615043411152201120100260100321118252000010022182720091201001905002616272011250004150019222800141518250000100510290014151801000225120100181526081801020114270015040012152205031133030800161931530011200538290020011300032920091209001005102900160103080000100539203441050014050225120100261815221401000415130100\n",
      "n je 49811011 e je 3031 d je 40497951\n",
      "['043805', '221518', '210205', '030016', '181520', '090020', '151321', '001409', '030014', '051401', '132920', '011200', '010012', '093911', '210016', '211920', '091200', '041522', '140920', '380000', '200113', '001209', '391101', '001638', '053511', '011201', '530014', '054100', '191115', '143509', '120008', '151400', '001615', '043411', '152201', '120100', '260100', '321118', '252000', '010022', '182720', '091201', '001905', '002616', '272011', '250004', '150019', '222800', '141518', '250000', '100510', '290014', '151801', '000225', '120100', '181526', '081801', '020114', '270015', '040012', '152205', '031133', '030800', '161931', '530011', '200538', '290020', '011300', '032920', '091209', '001005', '102900', '160103', '080000', '100539', '203441', '050014', '050225', '120100', '261815', '221401', '000415', '130100']\n"
     ]
    }
   ],
   "source": [
    "x = preved_retezec_na_cislo(\"Dřevorubec proti tomu nic nenamítal a lišku pustil dovnitř. Tam liška přečkala, než skončil hon. Poděkovala za úkryt a vrátila se zpátky do své nory. Její nora byla rozhrabaná od loveckých psů, kteří tam cítili její pach. Ještěže nebyla zrovna doma.\")\n",
    "print(\"text převedený na číslo je \" + str(x))\n",
    "\n",
    "hodnoty = Vygeneruj_klice(udelej_velke_prvocislo(), udelej_velke_prvocislo())\n",
    "\n",
    "n = hodnoty[\"verejny_klic\"][0]\n",
    "e = hodnoty[\"verejny_klic\"][1]\n",
    "d = hodnoty[\"soukromy_klic\"][1]\n",
    "print(\"n je \" + str(n) + \" e je \" + str(e) + \" d je \" + str(d))\n",
    "\n",
    "#chci aby čísla byla stále dlouhá 2p čísel\n",
    "skok = 2 * (int(len(str(n))/2) - 1)\n",
    "\n",
    "split_strings = [(x[i:i+skok]) for i in range(0, len(x), skok)]\n",
    "print(split_strings)"
   ]
  },
  {
   "cell_type": "code",
   "execution_count": 152,
   "id": "5503c613-f2c2-48f7-97d5-1eb50f0a7275",
   "metadata": {},
   "outputs": [],
   "source": [
    "dectionary_puvodni_a_zasifrovany = {}\n",
    "zasifrovany = []\n",
    "for m in split_strings:\n",
    "    dectionary_puvodni_a_zasifrovany[m] = (int(m)**e)%n\n",
    "    zasifrovany.append((int(m)**e)%n)"
   ]
  },
  {
   "cell_type": "code",
   "execution_count": 153,
   "id": "a8ed7720-00e2-40aa-9465-da787fbf684d",
   "metadata": {},
   "outputs": [
    {
     "name": "stdout",
     "output_type": "stream",
     "text": [
      "{'043805': 35305683, '221518': 3283801, '210205': 34172718, '030016': 30886847, '181520': 27738184, '090020': 10123793, '151321': 42755009, '001409': 31622506, '030014': 11786450, '051401': 45901604, '132920': 47874092, '011200': 11267053, '010012': 5214620, '093911': 37148212, '210016': 41699074, '211920': 16004651, '091200': 18614000, '041522': 39359609, '140920': 36989943, '380000': 5729696, '200113': 27624002, '001209': 20651126, '391101': 19390892, '001638': 48927069, '053511': 38956222, '011201': 16409184, '530014': 5090824, '054100': 44011276, '191115': 17212860, '143509': 31653986, '120008': 13499599, '151400': 12152851, '001615': 39741648, '043411': 37809935, '152201': 43315955, '120100': 32272013, '260100': 13270892, '321118': 45211245, '252000': 18978159, '010022': 24562915, '182720': 28268714, '091201': 1517475, '001905': 20544616, '002616': 26556624, '272011': 17384629, '250004': 27144638, '150019': 13993371, '222800': 42195992, '141518': 3515546, '250000': 44735636, '100510': 42966452, '290014': 25694716, '151801': 17891522, '000225': 4487602, '181526': 10784888, '081801': 44240204, '020114': 35357056, '270015': 44868930, '040012': 2134497, '152205': 34266753, '031133': 5669216, '030800': 35912811, '161931': 12836602, '530011': 2068495, '200538': 16268741, '290020': 35740064, '011300': 5251215, '032920': 13948988, '091209': 15824749, '001005': 36085594, '102900': 11827002, '160103': 8712587, '080000': 17281424, '100539': 26114086, '203441': 35581755, '050014': 9226941, '050225': 44723637, '261815': 25315359, '221401': 47777872, '000415': 48874125, '130100': 43270143}\n",
      "[35305683, 3283801, 34172718, 30886847, 27738184, 10123793, 42755009, 31622506, 11786450, 45901604, 47874092, 11267053, 5214620, 37148212, 41699074, 16004651, 18614000, 39359609, 36989943, 5729696, 27624002, 20651126, 19390892, 48927069, 38956222, 16409184, 5090824, 44011276, 17212860, 31653986, 13499599, 12152851, 39741648, 37809935, 43315955, 32272013, 13270892, 45211245, 18978159, 24562915, 28268714, 1517475, 20544616, 26556624, 17384629, 27144638, 13993371, 42195992, 3515546, 44735636, 42966452, 25694716, 17891522, 4487602, 32272013, 10784888, 44240204, 35357056, 44868930, 2134497, 34266753, 5669216, 35912811, 12836602, 2068495, 16268741, 35740064, 5251215, 13948988, 15824749, 36085594, 11827002, 8712587, 17281424, 26114086, 35581755, 9226941, 44723637, 32272013, 25315359, 47777872, 48874125, 43270143]\n"
     ]
    }
   ],
   "source": [
    "print(dectionary_puvodni_a_zasifrovany)\n",
    "print(zasifrovany)"
   ]
  },
  {
   "cell_type": "code",
   "execution_count": 154,
   "id": "4e80ed67",
   "metadata": {},
   "outputs": [],
   "source": [
    "vysledek = \"\"\n",
    "for c in zasifrovany:\n",
    "    vysledek += (str(10000000 + gmpy2.powmod(c, d, n))[2:])\n",
    "    "
   ]
  },
  {
   "cell_type": "code",
   "execution_count": 155,
   "id": "9ae3424c",
   "metadata": {},
   "outputs": [
    {
     "name": "stdout",
     "output_type": "stream",
     "text": [
      "043805221518210205030016181520090020151321001409030014051401132920011200010012093911210016211920091200041522140920380000200113001209391101001638053511011201530014054100191115143509120008151400001615043411152201120100260100321118252000010022182720091201001905002616272011250004150019222800141518250000100510290014151801000225120100181526081801020114270015040012152205031133030800161931530011200538290020011300032920091209001005102900160103080000100539203441050014050225120100261815221401000415130100\n"
     ]
    }
   ],
   "source": [
    "print(vysledek)"
   ]
  },
  {
   "cell_type": "code",
   "execution_count": 156,
   "id": "a6f54521",
   "metadata": {},
   "outputs": [
    {
     "name": "stdout",
     "output_type": "stream",
     "text": [
      "dřevorubec proti tomu nic nenamítal a lišku pustil dovnitř  tam liška přečkala, než skončil hon  poděkovala za úkryt a vrátila se zpátky do své nory  její nora byla rozhrabaná od loveckých psů, kteří tam cítili její pach  ještěže nebyla zrovna doma \n"
     ]
    }
   ],
   "source": [
    "\n",
    "print(\"\".join([vsechny_znaky[kod] for kod in [int(vysledek[int(i):int(i)+2]) for i in range(0, len(vysledek), 2)]]))"
   ]
  }
 ],
 "metadata": {
  "kernelspec": {
   "display_name": "Python 3 (ipykernel)",
   "language": "python",
   "name": "python3"
  },
  "language_info": {
   "codemirror_mode": {
    "name": "ipython",
    "version": 3
   },
   "file_extension": ".py",
   "mimetype": "text/x-python",
   "name": "python",
   "nbconvert_exporter": "python",
   "pygments_lexer": "ipython3",
   "version": "3.11.6"
  }
 },
 "nbformat": 4,
 "nbformat_minor": 5
}
